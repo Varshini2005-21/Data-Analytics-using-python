{
 "cells": [
  {
   "cell_type": "markdown",
   "id": "d9bcee1c-6a3a-4aea-aa10-a7e836957cc0",
   "metadata": {},
   "source": [
    "News API"
   ]
  },
  {
   "cell_type": "code",
   "execution_count": 3,
   "id": "717723a8-c25d-476c-a3f8-506113030d2c",
   "metadata": {},
   "outputs": [],
   "source": [
    "import requests\n",
    "\n",
    "url = \"https://reuters-business-and-financial-news.p.rapidapi.com/market-rics/list-rics-by-asset-and-category/1/1\"\n",
    "\n",
    "headers = {\n",
    "\t\"x-rapidapi-key\": \"5bb4e6d050msh73b0862282edf6cp1040cbjsn3ed74515d20c\",\n",
    "\t\"x-rapidapi-host\": \"reuters-business-and-financial-news.p.rapidapi.com\"\n",
    "}\n",
    "\n",
    "response = requests.get(url, headers=headers)\n",
    "\n",
    "result=response.json()"
   ]
  },
  {
   "cell_type": "code",
   "execution_count": 4,
   "id": "482d756a-948b-4d34-9025-ae00fea25f24",
   "metadata": {},
   "outputs": [
    {
     "data": {
      "text/html": [
       "<div>\n",
       "<style scoped>\n",
       "    .dataframe tbody tr th:only-of-type {\n",
       "        vertical-align: middle;\n",
       "    }\n",
       "\n",
       "    .dataframe tbody tr th {\n",
       "        vertical-align: top;\n",
       "    }\n",
       "\n",
       "    .dataframe thead th {\n",
       "        text-align: right;\n",
       "    }\n",
       "</style>\n",
       "<table border=\"1\" class=\"dataframe\">\n",
       "  <thead>\n",
       "    <tr style=\"text-align: right;\">\n",
       "      <th></th>\n",
       "      <th>statusCode</th>\n",
       "      <th>marketAsset</th>\n",
       "      <th>marketCategory</th>\n",
       "      <th>assetData</th>\n",
       "    </tr>\n",
       "  </thead>\n",
       "  <tbody>\n",
       "    <tr>\n",
       "      <th>0</th>\n",
       "      <td>200</td>\n",
       "      <td>Commodities</td>\n",
       "      <td>Agriculture</td>\n",
       "      <td>{'typeName': 'Commodity Future', 'rics': ['Cc1...</td>\n",
       "    </tr>\n",
       "  </tbody>\n",
       "</table>\n",
       "</div>"
      ],
      "text/plain": [
       "   statusCode  marketAsset marketCategory  \\\n",
       "0         200  Commodities    Agriculture   \n",
       "\n",
       "                                           assetData  \n",
       "0  {'typeName': 'Commodity Future', 'rics': ['Cc1...  "
      ]
     },
     "execution_count": 4,
     "metadata": {},
     "output_type": "execute_result"
    }
   ],
   "source": [
    "import pandas as pd\n",
    "newsdata=pd.DataFrame(result)\n",
    "newsdata.head()"
   ]
  },
  {
   "cell_type": "code",
   "execution_count": 8,
   "id": "b1bed138-dc21-4e0f-8f48-162fd4fe1387",
   "metadata": {},
   "outputs": [],
   "source": [
    "newsdata.to_csv(\"News_Data.csv\")"
   ]
  },
  {
   "cell_type": "markdown",
   "id": "f15a1fda-cfd3-4611-9bee-52e684da9182",
   "metadata": {},
   "source": [
    "Random Fox"
   ]
  },
  {
   "cell_type": "code",
   "execution_count": 9,
   "id": "fc3c73bc-c810-49eb-8c61-dccca9e79292",
   "metadata": {},
   "outputs": [],
   "source": [
    "import requests\n",
    "page=requests.get('https://randomfox.ca/floof')"
   ]
  },
  {
   "cell_type": "code",
   "execution_count": 10,
   "id": "ecabacb3-62f6-4278-821f-16dc2434882f",
   "metadata": {},
   "outputs": [
    {
     "name": "stdout",
     "output_type": "stream",
     "text": [
      "<Response [200]>\n"
     ]
    }
   ],
   "source": [
    "print(page)"
   ]
  },
  {
   "cell_type": "code",
   "execution_count": 13,
   "id": "2c6a9f18-b9c4-4a6e-a840-8e350e2c9b7c",
   "metadata": {},
   "outputs": [
    {
     "name": "stdout",
     "output_type": "stream",
     "text": [
      "{'image': 'https://randomfox.ca/images/83.jpg', 'link': 'https://randomfox.ca/?i=83'}\n"
     ]
    }
   ],
   "source": [
    "result=page.json()\n",
    "print(result)"
   ]
  },
  {
   "cell_type": "code",
   "execution_count": 16,
   "id": "a98b8241-a8c4-45bd-8649-98ebae74b983",
   "metadata": {},
   "outputs": [
    {
     "data": {
      "text/plain": [
       "'https://randomfox.ca/images/83.jpg'"
      ]
     },
     "execution_count": 16,
     "metadata": {},
     "output_type": "execute_result"
    }
   ],
   "source": [
    "result['image']"
   ]
  },
  {
   "cell_type": "markdown",
   "id": "979e971e-a4ef-4b5b-b351-bba6ba9f6a8a",
   "metadata": {},
   "source": [
    "Wheather API"
   ]
  },
  {
   "cell_type": "code",
   "execution_count": 26,
   "id": "5ea7478f-05aa-4763-a017-3bcb0f72b784",
   "metadata": {},
   "outputs": [],
   "source": [
    "import requests\n",
    "page1=requests.get(' http://api.weatherapi.com/v1/current.json?key=e89d108d6cca414ca8b90453252003&q=Tumkur')"
   ]
  },
  {
   "cell_type": "code",
   "execution_count": 27,
   "id": "e1b8341e-9bb4-43a5-9e38-a1d0ff89f74a",
   "metadata": {},
   "outputs": [
    {
     "name": "stdout",
     "output_type": "stream",
     "text": [
      "<Response [200]>\n"
     ]
    }
   ],
   "source": [
    "print(page1)"
   ]
  },
  {
   "cell_type": "code",
   "execution_count": 28,
   "id": "8ff509f4-e4b7-4747-ac43-3abbb6edeac6",
   "metadata": {},
   "outputs": [
    {
     "name": "stdout",
     "output_type": "stream",
     "text": [
      "{'location': {'name': 'Tumkur', 'region': 'Karnataka', 'country': 'India', 'lat': 13.3422, 'lon': 77.1017, 'tz_id': 'Asia/Kolkata', 'localtime_epoch': 1742462043, 'localtime': '2025-03-20 14:44'}, 'current': {'last_updated_epoch': 1742461200, 'last_updated': '2025-03-20 14:30', 'temp_c': 34.6, 'temp_f': 94.2, 'is_day': 1, 'condition': {'text': 'Sunny', 'icon': '//cdn.weatherapi.com/weather/64x64/day/113.png', 'code': 1000}, 'wind_mph': 9.4, 'wind_kph': 15.1, 'wind_degree': 113, 'wind_dir': 'ESE', 'pressure_mb': 1011.0, 'pressure_in': 29.85, 'precip_mm': 0.0, 'precip_in': 0.0, 'humidity': 18, 'cloud': 4, 'feelslike_c': 32.7, 'feelslike_f': 90.8, 'windchill_c': 34.6, 'windchill_f': 94.2, 'heatindex_c': 32.7, 'heatindex_f': 90.8, 'dewpoint_c': 6.6, 'dewpoint_f': 43.9, 'vis_km': 10.0, 'vis_miles': 6.0, 'uv': 9.2, 'gust_mph': 10.8, 'gust_kph': 17.4}}\n"
     ]
    }
   ],
   "source": [
    "result1=page1.json()\n",
    "print(result1)"
   ]
  },
  {
   "cell_type": "code",
   "execution_count": 29,
   "id": "7d38ef46-63f1-458d-9746-21b2900a696f",
   "metadata": {},
   "outputs": [
    {
     "data": {
      "text/plain": [
       "{'name': 'Tumkur',\n",
       " 'region': 'Karnataka',\n",
       " 'country': 'India',\n",
       " 'lat': 13.3422,\n",
       " 'lon': 77.1017,\n",
       " 'tz_id': 'Asia/Kolkata',\n",
       " 'localtime_epoch': 1742462043,\n",
       " 'localtime': '2025-03-20 14:44'}"
      ]
     },
     "execution_count": 29,
     "metadata": {},
     "output_type": "execute_result"
    }
   ],
   "source": [
    "result1['location']"
   ]
  },
  {
   "cell_type": "code",
   "execution_count": 32,
   "id": "fa20070a-3a34-429c-8664-d883df25fea9",
   "metadata": {},
   "outputs": [
    {
     "data": {
      "text/plain": [
       "{'last_updated_epoch': 1742461200,\n",
       " 'last_updated': '2025-03-20 14:30',\n",
       " 'temp_c': 34.6,\n",
       " 'temp_f': 94.2,\n",
       " 'is_day': 1,\n",
       " 'condition': {'text': 'Sunny',\n",
       "  'icon': '//cdn.weatherapi.com/weather/64x64/day/113.png',\n",
       "  'code': 1000},\n",
       " 'wind_mph': 9.4,\n",
       " 'wind_kph': 15.1,\n",
       " 'wind_degree': 113,\n",
       " 'wind_dir': 'ESE',\n",
       " 'pressure_mb': 1011.0,\n",
       " 'pressure_in': 29.85,\n",
       " 'precip_mm': 0.0,\n",
       " 'precip_in': 0.0,\n",
       " 'humidity': 18,\n",
       " 'cloud': 4,\n",
       " 'feelslike_c': 32.7,\n",
       " 'feelslike_f': 90.8,\n",
       " 'windchill_c': 34.6,\n",
       " 'windchill_f': 94.2,\n",
       " 'heatindex_c': 32.7,\n",
       " 'heatindex_f': 90.8,\n",
       " 'dewpoint_c': 6.6,\n",
       " 'dewpoint_f': 43.9,\n",
       " 'vis_km': 10.0,\n",
       " 'vis_miles': 6.0,\n",
       " 'uv': 9.2,\n",
       " 'gust_mph': 10.8,\n",
       " 'gust_kph': 17.4}"
      ]
     },
     "execution_count": 32,
     "metadata": {},
     "output_type": "execute_result"
    }
   ],
   "source": [
    "result1['current']"
   ]
  },
  {
   "cell_type": "code",
   "execution_count": 55,
   "id": "eb4a423d-42c3-4f28-9ed7-cb356ad551c5",
   "metadata": {},
   "outputs": [],
   "source": [
    "import requests\n",
    "page2=requests.get('https://api.coincap.io/v2/assets')"
   ]
  },
  {
   "cell_type": "code",
   "execution_count": 56,
   "id": "f000d083-0f1d-4d2a-a156-628d2399b23c",
   "metadata": {},
   "outputs": [
    {
     "name": "stdout",
     "output_type": "stream",
     "text": [
      "<Response [200]>\n"
     ]
    }
   ],
   "source": [
    "print(page2)"
   ]
  },
  {
   "cell_type": "code",
   "execution_count": 57,
   "id": "f5094374-0020-4963-8d68-74e05f55d45f",
   "metadata": {},
   "outputs": [
    {
     "name": "stdout",
     "output_type": "stream",
     "text": [
      "{'data': [{'id': 'bitcoin', 'rank': '1', 'symbol': 'BTC', 'name': 'Bitcoin', 'supply': '19839400.0000000000000000', 'maxSupply': '21000000.0000000000000000', 'marketCapUsd': '1704168200554.4520080019363800', 'volumeUsd24Hr': '10145317898.1131987490526916', 'priceUsd': '85898.1723517068060527', 'changePercent24Hr': '2.8303323148418100', 'vwap24Hr': '85201.0651284456121972', 'explorer': 'https://blockchain.info/'}, {'id': 'ethereum', 'rank': '2', 'symbol': 'ETH', 'name': 'Ethereum', 'supply': '120629195.4269564900000000', 'maxSupply': None, 'marketCapUsd': '242031355391.3720702848136771', 'volumeUsd24Hr': '6627561502.6680493086155465', 'priceUsd': '2006.4077732983565868', 'changePercent24Hr': '3.1986945441209031', 'vwap24Hr': '2023.0357853491439004', 'explorer': 'https://etherscan.io/'}, {'id': 'xrp', 'rank': '3', 'symbol': 'XRP', 'name': 'XRP', 'supply': '58108919817.0000000000000000', 'maxSupply': '100000000000.0000000000000000', 'marketCapUsd': '145960734522.5295277496239365', 'volumeUsd24Hr': '3370529495.9001892693635473', 'priceUsd': '2.5118473202082845', 'changePercent24Hr': '8.4563590913032227', 'vwap24Hr': '2.4898083714762087', 'explorer': 'https://xrpcharts.ripple.com/#/graph/'}, {'id': 'tether', 'rank': '4', 'symbol': 'USDT', 'name': 'Tether', 'supply': '143653509034.0653000000000000', 'maxSupply': None, 'marketCapUsd': '143728517967.1744749903120368', 'volumeUsd24Hr': '24672991788.0754977566478805', 'priceUsd': '1.0005221517637372', 'changePercent24Hr': '0.1295580928142678', 'vwap24Hr': '0.9999677996084417', 'explorer': 'https://www.omniexplorer.info/asset/31'}, {'id': 'binance-coin', 'rank': '5', 'symbol': 'BNB', 'name': 'BNB', 'supply': '144006830.0000000000000000', 'maxSupply': '144006830.0000000000000000', 'marketCapUsd': '91531922671.6425422206243280', 'volumeUsd24Hr': '557712384.9752122502527518', 'priceUsd': '635.6082046361449816', 'changePercent24Hr': '3.3648881258129906', 'vwap24Hr': '617.6091689478402690', 'explorer': 'https://etherscan.io/token/0xB8c77482e45F1F44dE1745F52C74426C631bDD52'}, {'id': 'solana', 'rank': '6', 'symbol': 'SOL', 'name': 'Solana', 'supply': '510156044.0299182000000000', 'maxSupply': None, 'marketCapUsd': '68054686585.0660258965647712', 'volumeUsd24Hr': '1397716146.6217669695536986', 'priceUsd': '133.3997457865557418', 'changePercent24Hr': '5.4140399043117674', 'vwap24Hr': '131.8182369120447460', 'explorer': 'https://explorer.solana.com/'}, {'id': 'usd-coin', 'rank': '7', 'symbol': 'USDC', 'name': 'USDC', 'supply': '59242276090.4832400000000000', 'maxSupply': None, 'marketCapUsd': '59259367101.7667673794662336', 'volumeUsd24Hr': '6714906798.0260387187642434', 'priceUsd': '1.0002884934950410', 'changePercent24Hr': '0.0529686211494616', 'vwap24Hr': '0.9998569744587769', 'explorer': 'https://etherscan.io/token/0xa0b86991c6218b36c1d19d4a2e9eb0ce3606eb48'}, {'id': 'dogecoin', 'rank': '8', 'symbol': 'DOGE', 'name': 'Dogecoin', 'supply': '148504846383.7052600000000000', 'maxSupply': None, 'marketCapUsd': '25880136150.1048584617383029', 'volumeUsd24Hr': '427069182.5192355798799027', 'priceUsd': '0.1742713236660037', 'changePercent24Hr': '3.7171484190895928', 'vwap24Hr': '0.1733576565824764', 'explorer': 'http://dogechain.info/chain/Dogecoin'}, {'id': 'cardano', 'rank': '9', 'symbol': 'ADA', 'name': 'Cardano', 'supply': '35234797228.4508800000000000', 'maxSupply': '45000000000.0000000000000000', 'marketCapUsd': '25834956978.7802636955059198', 'volumeUsd24Hr': '507632955.2293142701639142', 'priceUsd': '0.7332228084434506', 'changePercent24Hr': '2.4452346189411457', 'vwap24Hr': '0.7322035012709807', 'explorer': 'https://cardanoexplorer.com/'}, {'id': 'tron', 'rank': '10', 'symbol': 'TRX', 'name': 'TRON', 'supply': '95016082389.9211600000000000', 'maxSupply': None, 'marketCapUsd': '21804700781.3857033111189148', 'volumeUsd24Hr': '302094099.5071064958571169', 'priceUsd': '0.2294843171064969', 'changePercent24Hr': '-0.1209344519571135', 'vwap24Hr': '0.2307190105896851', 'explorer': 'https://tronscan.org/#/'}, {'id': 'steth', 'rank': '11', 'symbol': 'STETH', 'name': 'Lido Staked ETH', 'supply': '9343402.8086646900000000', 'maxSupply': None, 'marketCapUsd': '18841053713.2153140102400183', 'volumeUsd24Hr': '2204829.7484266716815825', 'priceUsd': '2016.5087708455521824', 'changePercent24Hr': '4.1438703875640626', 'vwap24Hr': '2027.8022289274514320', 'explorer': 'https://etherscan.io/token/0xae7ab96520de3a18e5e111b5eaab095312d7fe84'}, {'id': 'wrapped-bitcoin', 'rank': '12', 'symbol': 'WBTC', 'name': 'Wrapped Bitcoin', 'supply': '129077.4055218900000000', 'maxSupply': None, 'marketCapUsd': '11050669466.7883270036763095', 'volumeUsd24Hr': '211628597.8882610234189459', 'priceUsd': '85612.7330891715535478', 'changePercent24Hr': '2.7699715160607586', 'vwap24Hr': '84722.7711034484265154', 'explorer': 'https://etherscan.io/token/0x2260fac5e5542a773aa44fbcfedf7c193bc2c599'}, {'id': 'chainlink', 'rank': '13', 'symbol': 'LINK', 'name': 'Chainlink', 'supply': '657099970.4527867000000000', 'maxSupply': None, 'marketCapUsd': '9626453038.1466152804527581', 'volumeUsd24Hr': '232413866.5503952681670640', 'priceUsd': '14.6499063628222849', 'changePercent24Hr': '4.2642328979243529', 'vwap24Hr': '14.5681670352369304', 'explorer': 'https://etherscan.io/token/0x514910771af9ca656af840dff83e8264ecf986ca'}, {'id': 'unus-sed-leo', 'rank': '14', 'symbol': 'LEO', 'name': 'UNUS SED LEO', 'supply': '923901567.9000000000000000', 'maxSupply': None, 'marketCapUsd': '9029475572.3579760759423926', 'volumeUsd24Hr': '427302.7180862567213242', 'priceUsd': '9.7732008322939616', 'changePercent24Hr': '0.0242358495750047', 'vwap24Hr': '9.8285057068678064', 'explorer': 'https://eospark.com/account/bitfinexleo1'}, {'id': 'tontoken', 'rank': '15', 'symbol': 'TON', 'name': 'Toncoin', 'supply': '2476378413.2700000000000000', 'maxSupply': '5047558527.7000000000000000', 'marketCapUsd': '9022660963.5615414108116593', 'volumeUsd24Hr': '77965381.1086126577512150', 'priceUsd': '3.6434903951724114', 'changePercent24Hr': '1.6319265764380163', 'vwap24Hr': '3.6549872216970479', 'explorer': 'https://tonscan.org/'}, {'id': 'stellar', 'rank': '16', 'symbol': 'XLM', 'name': 'Stellar', 'supply': '30754554606.4495930000000000', 'maxSupply': '50001806812.0000000000000000', 'marketCapUsd': '8850369931.2657376588774101', 'volumeUsd24Hr': '167373697.6722392097215013', 'priceUsd': '0.2877742839888083', 'changePercent24Hr': '3.7026256482720122', 'vwap24Hr': '0.2883590850471504', 'explorer': 'https://dashboard.stellar.org/'}, {'id': 'hedera-hashgraph', 'rank': '17', 'symbol': 'HBAR', 'name': 'Hedera', 'supply': '41903956526.0000000000000000', 'maxSupply': '50000000000.0000000000000000', 'marketCapUsd': '8139544691.6270013579045424', 'volumeUsd24Hr': '109102245.0310645754574573', 'priceUsd': '0.1942428678918824', 'changePercent24Hr': '2.7057287583453694', 'vwap24Hr': '0.1939893448973065', 'explorer': 'https://app.dragonglass.me/hedera/home'}, {'id': 'avalanche', 'rank': '18', 'symbol': 'AVAX', 'name': 'Avalanche', 'supply': '414456636.6751344000000000', 'maxSupply': '715748719.0000000000000000', 'marketCapUsd': '7911033685.5789190569082975', 'volumeUsd24Hr': '139909898.3625136263545052', 'priceUsd': '19.0877235047869768', 'changePercent24Hr': '-0.1274244247201204', 'vwap24Hr': '19.5214952584704998', 'explorer': 'https://avascan.info/'}, {'id': 'sui', 'rank': '19', 'symbol': 'SUI', 'name': 'Sui', 'supply': '3169845047.4838877000000000', 'maxSupply': '10000000000.0000000000000000', 'marketCapUsd': '7845520411.0613214984194798', 'volumeUsd24Hr': '499034437.4452307481431788', 'priceUsd': '2.4750485571175858', 'changePercent24Hr': '6.6989991398818170', 'vwap24Hr': '2.4096721497272037', 'explorer': 'https://suiexplorer.com/'}, {'id': 'shiba-inu', 'rank': '20', 'symbol': 'SHIB', 'name': 'Shiba Inu', 'supply': '589252943029396.8000000000000000', 'maxSupply': '589552695333683.0000000000000000', 'marketCapUsd': '7609630390.4620029832105181', 'volumeUsd24Hr': '59994048.0563646182811355', 'priceUsd': '0.0000129140303506', 'changePercent24Hr': '2.6055925345269116', 'vwap24Hr': '0.0000128033871841', 'explorer': 'https://etherscan.io/token/0x95ad61b0a150d79219dcf64e1e6cc01f0b64c4ce'}, {'id': 'litecoin', 'rank': '21', 'symbol': 'LTC', 'name': 'Litecoin', 'supply': '75558468.3040892000000000', 'maxSupply': '84000000.0000000000000000', 'marketCapUsd': '6989308409.4663530515565334', 'volumeUsd24Hr': '217878785.5240869381087797', 'priceUsd': '92.5019864264254008', 'changePercent24Hr': '2.2086058871287619', 'vwap24Hr': '92.3511014296305310', 'explorer': 'http://explorer.litecoin.net/chain/Litecoin'}, {'id': 'bitcoin-cash', 'rank': '22', 'symbol': 'BCH', 'name': 'Bitcoin Cash', 'supply': '19844653.1250000000000000', 'maxSupply': '21000000.0000000000000000', 'marketCapUsd': '6863919136.1012663981421769', 'volumeUsd24Hr': '59139367.7022145072207143', 'priceUsd': '345.8825454325630294', 'changePercent24Hr': '3.5097135303061206', 'vwap24Hr': '342.0240846321819085', 'explorer': 'https://blockchair.com/bitcoin-cash/blocks'}, {'id': 'polkadot', 'rank': '23', 'symbol': 'DOT', 'name': 'Polkadot', 'supply': '1522267060.0000000000000000', 'maxSupply': None, 'marketCapUsd': '6783498698.1107543314187140', 'volumeUsd24Hr': '97512354.8311612285662445', 'priceUsd': '4.4561817544096069', 'changePercent24Hr': '-1.1632629923876364', 'vwap24Hr': '4.5182142085488888', 'explorer': 'https://polkascan.io/polkadot'}, {'id': 'weth', 'rank': '24', 'symbol': 'WETH', 'name': 'Wrapped ETH', 'supply': '3375317.5900000000000000', 'maxSupply': None, 'marketCapUsd': '6771842129.7803696932205558', 'volumeUsd24Hr': '562529365.4878393653736320', 'priceUsd': '2006.2829494454682391', 'changePercent24Hr': '3.1346204864620798', 'vwap24Hr': None, 'explorer': 'https://etherscan.io/token/0xc02aaa39b223fe8d0a0e5c4f27ead9083c756cc2'}, {'id': 'mantra-dao', 'rank': '25', 'symbol': 'OM', 'name': 'Mantra', 'supply': '974778351.8199997000000000', 'maxSupply': '888888888.0000000000000000', 'marketCapUsd': '6679005092.3548978982886501', 'volumeUsd24Hr': '86183293.7664379498293691', 'priceUsd': '6.8518192673078848', 'changePercent24Hr': '-0.2074485236733794', 'vwap24Hr': '6.7212529141118881', 'explorer': 'https://etherscan.io/token/0x3593d125a4f7849a1b059e64f4517a86dd60c95d'}, {'id': 'ethena-usde', 'rank': '26', 'symbol': 'USDE', 'name': 'Ethena USDe', 'supply': '5414093569.9608370000000000', 'maxSupply': None, 'marketCapUsd': '5414597207.4434137088589041', 'volumeUsd24Hr': '17582732.9222318779740479', 'priceUsd': '1.0000930234167675', 'changePercent24Hr': '0.0475703608741990', 'vwap24Hr': None, 'explorer': 'etherscan.io'}, {'id': 'multi-collateral-dai', 'rank': '27', 'symbol': 'DAI', 'name': 'Dai', 'supply': '5365382702.6648720000000000', 'maxSupply': None, 'marketCapUsd': '5365269414.6403001590446415', 'volumeUsd24Hr': '136889186.8436243014034017', 'priceUsd': '0.9999788853785741', 'changePercent24Hr': '0.0176090997127851', 'vwap24Hr': '1.0002753860778906', 'explorer': 'https://etherscan.io/token/0x89d24a6b4ccb1b6faa2625fe562bdd9a23260359'}, {'id': 'hyperliquid', 'rank': '28', 'symbol': 'HYPE', 'name': 'Hyperliquid', 'supply': '333928180.0000000000000000', 'maxSupply': '1000000000.0000000000000000', 'marketCapUsd': '4947899381.7252628796205660', 'volumeUsd24Hr': '30921649.9733603776009874', 'priceUsd': '14.8172561588700387', 'changePercent24Hr': '1.9456111367878986', 'vwap24Hr': '15.0286301395665930', 'explorer': 'https://app.hyperliquid.xyz/explorer/token/0x0d01dc56dcaaca66ad901c959b4011ec'}, {'id': 'uniswap', 'rank': '29', 'symbol': 'UNI', 'name': 'Uniswap', 'supply': '600585117.7100000000000000', 'maxSupply': None, 'marketCapUsd': '4129800182.1516098640944255', 'volumeUsd24Hr': '170963383.7984058027849508', 'priceUsd': '6.8762945673684430', 'changePercent24Hr': '8.3843625001235124', 'vwap24Hr': '6.8417261722158541', 'explorer': 'https://etherscan.io/token/0x1f9840a85d5af5bf1d1762f925bdaddc4201f984'}, {'id': 'monero', 'rank': '30', 'symbol': 'XMR', 'name': 'Monero', 'supply': '18446744.0737095500000000', 'maxSupply': None, 'marketCapUsd': '3871346308.5075602781036869', 'volumeUsd24Hr': '41279814.6307177010641091', 'priceUsd': '209.8661039063817549', 'changePercent24Hr': '0.3597857481194987', 'vwap24Hr': '207.3982853017553622', 'explorer': 'http://moneroblocks.info/'}, {'id': 'aptos', 'rank': '31', 'symbol': 'APT', 'name': 'Aptos', 'supply': '602951960.5266026000000000', 'maxSupply': None, 'marketCapUsd': '3310744124.2299578976885218', 'volumeUsd24Hr': '42572214.4888150244856682', 'priceUsd': '5.4908920460901062', 'changePercent24Hr': '-0.2143157546154897', 'vwap24Hr': '5.5548363509543856', 'explorer': 'https://explorer.aptoslabs.com/'}, {'id': 'near-protocol', 'rank': '32', 'symbol': 'NEAR', 'name': 'Near Protocol', 'supply': '1196157059.0000000000000000', 'maxSupply': None, 'marketCapUsd': '3277149390.5906198716583015', 'volumeUsd24Hr': '104414999.7224920423561155', 'priceUsd': '2.7397316814987085', 'changePercent24Hr': '5.0270122916664445', 'vwap24Hr': '2.7223992223459794', 'explorer': 'https://explorer.nearprotocol.com/'}, {'id': 'pepe', 'rank': '33', 'symbol': 'PEPE', 'name': 'Pepe', 'supply': '420689899653543.5600000000000000', 'maxSupply': '420690000000000.0000000000000000', 'marketCapUsd': '3191360489.8654529545736037', 'volumeUsd24Hr': '462795814.3522944773080968', 'priceUsd': '0.0000075860164280', 'changePercent24Hr': '4.0464683116391547', 'vwap24Hr': '0.0000074014846356', 'explorer': 'https://etherscan.io/token/0x6982508145454ce325ddbe47a25d4ec3d2311933'}, {'id': 'okb', 'rank': '34', 'symbol': 'OKB', 'name': 'OKB', 'supply': '60000000.0000000000000000', 'maxSupply': None, 'marketCapUsd': '3105908355.3383681820000000', 'volumeUsd24Hr': '292599.3240302641578445', 'priceUsd': '51.7651392556394697', 'changePercent24Hr': '-1.5054999724349312', 'vwap24Hr': '52.5864780814697129', 'explorer': 'https://etherscan.io/token/0x75231f58b43240c9718dd58b4967c5114342a86c'}, {'id': 'internet-computer', 'rank': '35', 'symbol': 'ICP', 'name': 'Internet Computer', 'supply': '481770532.7498429000000000', 'maxSupply': None, 'marketCapUsd': '2842413051.9188993099519259', 'volumeUsd24Hr': '26773495.8146000132272687', 'priceUsd': '5.8999313131399197', 'changePercent24Hr': '1.2893726790472124', 'vwap24Hr': '5.9138777234348518', 'explorer': 'https://www.dfinityexplorer.org/#/'}, {'id': 'ondo-finance', 'rank': '36', 'symbol': 'ONDO', 'name': 'Ondo', 'supply': '3159107529.0000000000000000', 'maxSupply': None, 'marketCapUsd': '2761315645.5217332885248343', 'volumeUsd24Hr': '111650893.0162293551352427', 'priceUsd': '0.8740809295579167', 'changePercent24Hr': '4.0018203155432742', 'vwap24Hr': '0.8643848634615368', 'explorer': 'https://etherscan.io/token/0xfAbA6f8e4a5E8Ab82F62fe7C39859FA577269BE3'}, {'id': 'ethereum-classic', 'rank': '37', 'symbol': 'ETC', 'name': 'Ethereum Classic', 'supply': '151189635.0964976300000000', 'maxSupply': '210700000.0000000000000000', 'marketCapUsd': '2736255083.7045559998878770', 'volumeUsd24Hr': '57104381.7765804960266870', 'priceUsd': '18.0981658032187583', 'changePercent24Hr': '1.0920669903556480', 'vwap24Hr': '18.3079990677692440', 'explorer': 'http://gastracker.io/'}, {'id': 'aave', 'rank': '38', 'symbol': 'AAVE', 'name': 'Aave', 'supply': '15090171.9008862800000000', 'maxSupply': None, 'marketCapUsd': '2674616947.1474166084501692', 'volumeUsd24Hr': '146970101.0325198321556431', 'priceUsd': '177.2423114007289932', 'changePercent24Hr': '3.0254443033572104', 'vwap24Hr': '179.6052046170109527', 'explorer': 'https://etherscan.io/token/0x80fB784B7eD66730e8b1DBd9820aFD29931aab03'}, {'id': 'official-trump', 'rank': '39', 'symbol': 'TRUMP', 'name': 'Trump Official', 'supply': '199999458.4186580000000000', 'maxSupply': '999999993.4500000000000000', 'marketCapUsd': '2282655477.9866634144017599', 'volumeUsd24Hr': '59291381.5552174934038715', 'priceUsd': '11.4133082961074354', 'changePercent24Hr': '3.6905603379777723', 'vwap24Hr': '11.3213389444469846', 'explorer': 'https://solscan.io/token/6p6xgHyF7AeE6TZkSmFsko444wqoP15icUSqi2jfGiPN'}, {'id': 'vechain', 'rank': '40', 'symbol': 'VET', 'name': 'VeChain', 'supply': '85985041177.0000000000000000', 'maxSupply': '86712634466.0000000000000000', 'marketCapUsd': '2269375711.3457642589505772', 'volumeUsd24Hr': '40332996.4586638734769129', 'priceUsd': '0.0263926804044236', 'changePercent24Hr': '3.2763705432647171', 'vwap24Hr': '0.0264357546995426', 'explorer': 'https://explore.veforge.com/'}, {'id': 'bittensor', 'rank': '41', 'symbol': 'TAO', 'name': 'Bittensor', 'supply': '8477596.0000000000000000', 'maxSupply': '21000000.0000000000000000', 'marketCapUsd': '2212828893.3040342446324316', 'volumeUsd24Hr': '65721141.7914697902049844', 'priceUsd': '261.0208003901146321', 'changePercent24Hr': '4.5433010564661352', 'vwap24Hr': '256.8523691309973469', 'explorer': 'https://bittensor.com/scan'}, {'id': 'first-digital-usd', 'rank': '42', 'symbol': 'FDUSD', 'name': 'First Digital USD', 'supply': '2174390084.1278880000000000', 'maxSupply': None, 'marketCapUsd': '2172632610.8316886510532857', 'volumeUsd24Hr': '896764965.7788477584017219', 'priceUsd': '0.9991917396473484', 'changePercent24Hr': '0.0219359325589795', 'vwap24Hr': '0.9990561152018730', 'explorer': None}, {'id': 'kaspa', 'rank': '43', 'symbol': 'KAS', 'name': 'Kaspa', 'supply': '25887954645.6974220000000000', 'maxSupply': '28704026601.0000000000000000', 'marketCapUsd': '2084987668.4357760557653713', 'volumeUsd24Hr': '25864289.7841704803337607', 'priceUsd': '0.0805389107394122', 'changePercent24Hr': '2.1472683909089309', 'vwap24Hr': '0.0809263590980521', 'explorer': 'https://explorer.kaspa.org/'}, {'id': 'crypto-com-coin', 'rank': '44', 'symbol': 'CRO', 'name': 'Cronos', 'supply': '25263013692.0000000000000000', 'maxSupply': '30263013692.0000000000000000', 'marketCapUsd': '2042705897.5483150858750764', 'volumeUsd24Hr': '11959305.6949374295482142', 'priceUsd': '0.0808575699816517', 'changePercent24Hr': '2.3488736409556860', 'vwap24Hr': '0.0804642757530825', 'explorer': 'https://etherscan.io/token/0xa0b73e1ff0b80914ab6fe0444e65848c4c34450b'}, {'id': 'filecoin', 'rank': '45', 'symbol': 'FIL', 'name': 'Filecoin', 'supply': '645033147.0000000000000000', 'maxSupply': None, 'marketCapUsd': '1967118425.7925984004731785', 'volumeUsd24Hr': '65557556.2410166868925344', 'priceUsd': '3.0496392858902155', 'changePercent24Hr': '3.9008560013566374', 'vwap24Hr': '3.0136524542886570', 'explorer': 'https://protocol.ai'}, {'id': 'gatetoken', 'rank': '46', 'symbol': 'GT', 'name': 'GateToken', 'supply': '85845250.1181314900000000', 'maxSupply': None, 'marketCapUsd': '1958181462.8182692669736911', 'volumeUsd24Hr': '44154098.8078996456567258', 'priceUsd': '22.8105976757434963', 'changePercent24Hr': '2.4612203061689226', 'vwap24Hr': '22.6993930083077854', 'explorer': None}, {'id': 'polygon-ecosystem-token', 'rank': '47', 'symbol': 'POL', 'name': 'POL (prev. MATIC)', 'supply': '8625238091.9908810000000000', 'maxSupply': None, 'marketCapUsd': '1875035159.7244474503119142', 'volumeUsd24Hr': '33405228.6336888321834242', 'priceUsd': '0.2173893798323718', 'changePercent24Hr': '2.3695828145162912', 'vwap24Hr': '0.2166153131126612', 'explorer': 'https://etherscan.io/token/0x455e53CBB86018Ac2B8092FdCd39d8444aFFC3F6'}, {'id': 'celestia', 'rank': '48', 'symbol': 'TIA', 'name': 'Celestia', 'supply': '567415978.4891890000000000', 'maxSupply': None, 'marketCapUsd': '1872338468.7748143016984546', 'volumeUsd24Hr': '46544995.8527218114389020', 'priceUsd': '3.2997633830477124', 'changePercent24Hr': '0.9897794973937116', 'vwap24Hr': '3.3329707402787502', 'explorer': 'https://www.mintscan.io/celestia'}, {'id': 'cosmos', 'rank': '49', 'symbol': 'ATOM', 'name': 'Cosmos', 'supply': '390934204.0000000000000000', 'maxSupply': None, 'marketCapUsd': '1845143655.5425012114565568', 'volumeUsd24Hr': '50121635.6101165814274717', 'priceUsd': '4.7198317176219792', 'changePercent24Hr': '2.4151428001713620', 'vwap24Hr': '4.6823031293846678', 'explorer': 'https://www.mintscan.io/'}, {'id': 'arbitrum', 'rank': '50', 'symbol': 'ARB', 'name': 'Arbitrum', 'supply': '4617913336.0000000000000000', 'maxSupply': None, 'marketCapUsd': '1728004234.2216072744431144', 'volumeUsd24Hr': '78475118.3453505120462612', 'priceUsd': '0.3741958994229179', 'changePercent24Hr': '1.4792361824060589', 'vwap24Hr': '0.3787607656604535', 'explorer': 'https://arbiscan.io/token/0x912CE59144191C1204E64559FE8253a0e49E6548'}, {'id': 'render', 'rank': '51', 'symbol': 'RENDER', 'name': 'Render', 'supply': '517716590.0562826400000000', 'maxSupply': '644168762.0000000000000000', 'marketCapUsd': '1724570828.8922291455913076', 'volumeUsd24Hr': '48283179.5220427162397796', 'priceUsd': '3.3311098427515052', 'changePercent24Hr': '2.3567019139862580', 'vwap24Hr': '3.3464869863620858', 'explorer': None}, {'id': 'algorand', 'rank': '52', 'symbol': 'ALGO', 'name': 'Algorand', 'supply': '8514781260.1196030000000000', 'maxSupply': '10000000000.0000000000000000', 'marketCapUsd': '1686335085.0603410565077974', 'volumeUsd24Hr': '56749323.0777747951717632', 'priceUsd': '0.1980479631295489', 'changePercent24Hr': '5.1548077915500129', 'vwap24Hr': '0.1968365006792353', 'explorer': 'https://algoexplorer.io/'}, {'id': 'dexe', 'rank': '53', 'symbol': 'DEXE', 'name': 'DeXe', 'supply': '83733347.4979964300000000', 'maxSupply': None, 'marketCapUsd': '1612440291.5023417260122205', 'volumeUsd24Hr': '7686346.9660111807974637', 'priceUsd': '19.2568473575109865', 'changePercent24Hr': '2.6321162190364328', 'vwap24Hr': '18.9217257420279363', 'explorer': 'https://etherscan.io/token/0xde4EE8057785A7e8e800Db58F9784845A5C2Cbd6'}, {'id': 'fantom', 'rank': '54', 'symbol': 'S', 'name': 'Sonic (prev. FTM)', 'supply': '2803634835.5265927000000000', 'maxSupply': '3175000000.0000000000000000', 'marketCapUsd': '1499537446.5903776670632732', 'volumeUsd24Hr': '121358738.1625911653326207', 'priceUsd': '0.5348547633910131', 'changePercent24Hr': '5.9377355032008803', 'vwap24Hr': '0.5290256986360328', 'explorer': 'sonicscan.org'}, {'id': 'jupiter', 'rank': '55', 'symbol': 'JUP', 'name': 'Jupiter', 'supply': '2690911111.1000000000000000', 'maxSupply': '3000000000.0000000000000000', 'marketCapUsd': '1439015582.6587183238434392', 'volumeUsd24Hr': '29005022.7361260262797351', 'priceUsd': '0.5347689028904684', 'changePercent24Hr': '3.5830973061378429', 'vwap24Hr': '0.5342652620521797', 'explorer': 'https://solscan.io/token/JUPyiwrYJFskUPiHa7hkeR8VUtAeFoSYbKedZNsDvCN'}, {'id': 'story-protocol', 'rank': '56', 'symbol': 'IP', 'name': 'Story', 'supply': '250000000.0000000000000000', 'maxSupply': None, 'marketCapUsd': '1386494487.2696162250000000', 'volumeUsd24Hr': '22518689.3838748776717045', 'priceUsd': '5.5459779490784649', 'changePercent24Hr': '4.0018951883104243', 'vwap24Hr': '5.4620682324085321', 'explorer': 'www.storyscan.xyz'}, {'id': 'kucoin-token', 'rank': '57', 'symbol': 'KCS', 'name': 'KuCoin Token', 'supply': '122561753.8513356400000000', 'maxSupply': '200000000.0000000000000000', 'marketCapUsd': '1375543778.0729482328889698', 'volumeUsd24Hr': '885955.5002263249876679', 'priceUsd': '11.2232710029708667', 'changePercent24Hr': '0.3851691794408907', 'vwap24Hr': '11.2703452427436996', 'explorer': 'https://etherscan.io/token/0xf34960d9d60be18cc1d5afc1a6f012a723a28811'}, {'id': 'fetch', 'rank': '58', 'symbol': 'FET', 'name': 'Artificial Superintelligence Alliance', 'supply': '2520000000.0000000000000000', 'maxSupply': '2630547141.0000000000000000', 'marketCapUsd': '1344356244.7534210320000000', 'volumeUsd24Hr': '50380993.0201312330175759', 'priceUsd': '0.5334747002989766', 'changePercent24Hr': '3.1348015733883860', 'vwap24Hr': '0.5397344751212573', 'explorer': 'https://etherscan.io/token/0x1d287cc25dad7ccaf76a26bc660c5f7c8e2a05bd'}, {'id': 'ethena', 'rank': '59', 'symbol': 'ENA', 'name': 'Ethena', 'supply': '3223437500.0000000000000000', 'maxSupply': None, 'marketCapUsd': '1257129181.5967585201562500', 'volumeUsd24Hr': '100390365.4665428722161799', 'priceUsd': '0.3899964499379183', 'changePercent24Hr': '5.4758171173382181', 'vwap24Hr': '0.3880053450366989', 'explorer': None}, {'id': 'xinfin-network', 'rank': '60', 'symbol': 'XDC', 'name': 'XDC Network', 'supply': '15692654414.5500000000000000', 'maxSupply': None, 'marketCapUsd': '1111720016.0541556139630058', 'volumeUsd24Hr': '26024774.7108354943917751', 'priceUsd': '0.0708433376971193', 'changePercent24Hr': '5.9524915265467050', 'vwap24Hr': '0.0697622865521819', 'explorer': 'https://etherscan.io/token/0x41ab1b6fcbb2fa9dced81acbdec13ea6315f2bf2'}, {'id': 'movement', 'rank': '61', 'symbol': 'MOVE', 'name': 'Movement', 'supply': '2450000000.0000000000000000', 'maxSupply': '10000000000.0000000000000000', 'marketCapUsd': '1104571187.5273529650000000', 'volumeUsd24Hr': '38671244.7921998270553199', 'priceUsd': '0.4508453826642257', 'changePercent24Hr': '0.8586333949252951', 'vwap24Hr': '0.4508013243380355', 'explorer': None}, {'id': 'maker', 'rank': '62', 'symbol': 'MKR', 'name': 'Maker', 'supply': '848074.4183746700000000', 'maxSupply': '1000000.0000000000000000', 'marketCapUsd': '1084635665.7351771861221547', 'volumeUsd24Hr': '34259519.6595300571764230', 'priceUsd': '1278.9392560783469064', 'changePercent24Hr': '0.5912825127420613', 'vwap24Hr': '1295.5692564164783203', 'explorer': 'https://etherscan.io/token/Maker'}, {'id': 'worldcoin-org', 'rank': '63', 'symbol': 'WLD', 'name': 'Worldcoin', 'supply': '1175774097.0720835000000000', 'maxSupply': None, 'marketCapUsd': '1056568530.0877886677843108', 'volumeUsd24Hr': '60799044.6586067286394567', 'priceUsd': '0.8986152465161965', 'changePercent24Hr': '5.8286873015792520', 'vwap24Hr': '0.8851209613046663', 'explorer': None}, {'id': 'immutable-x', 'rank': '64', 'symbol': 'IMX', 'name': 'Immutable X', 'supply': '1768317543.3900000000000000', 'maxSupply': '2000000000.0000000000000000', 'marketCapUsd': '1023300831.5283320434754174', 'volumeUsd24Hr': '11559630.9308998608990460', 'priceUsd': '0.5786861275868960', 'changePercent24Hr': '1.1500100896723274', 'vwap24Hr': '0.5837641041851222', 'explorer': None}, {'id': 'stacks', 'rank': '65', 'symbol': 'STX', 'name': 'Stacks', 'supply': '1517742202.5358600000000000', 'maxSupply': '1818000000.0000000000000000', 'marketCapUsd': '984126729.4621996594341944', 'volumeUsd24Hr': '16052368.5095837927803913', 'priceUsd': '0.6484149467662625', 'changePercent24Hr': '4.3266922324813094', 'vwap24Hr': '0.6484722704257539', 'explorer': 'https://explorer.stacks.co/'}, {'id': 'injective-protocol', 'rank': '66', 'symbol': 'INJ', 'name': 'Injective', 'supply': '98970935.4100000000000000', 'maxSupply': '100000000.0000000000000000', 'marketCapUsd': '982703541.2288606500473601', 'volumeUsd24Hr': '70465026.3651072264044496', 'priceUsd': '9.9292134317805843', 'changePercent24Hr': '3.2869008599582288', 'vwap24Hr': '10.0460811742416822', 'explorer': 'https://etherscan.io/token/0xe28b3b32b6c345a34ff64674606124dd5aceca30'}, {'id': 'sei', 'rank': '67', 'symbol': 'SEI', 'name': 'Sei', 'supply': '4882361111.0000000000000000', 'maxSupply': None, 'marketCapUsd': '974492747.8604874157999829', 'volumeUsd24Hr': '47413583.6356580616831015', 'priceUsd': '0.1995945661751539', 'changePercent24Hr': '0.3940080236960276', 'vwap24Hr': '0.2015826037181863', 'explorer': None}, {'id': 'quant', 'rank': '68', 'symbol': 'QNT', 'name': 'Quant', 'supply': '12072738.0000000000000000', 'maxSupply': '14881364.0000000000000000', 'marketCapUsd': '945802360.3213468361124882', 'volumeUsd24Hr': '9829568.0350028317662422', 'priceUsd': '78.3419933673162489', 'changePercent24Hr': '0.6711843012761474', 'vwap24Hr': '79.1012781037340239', 'explorer': 'https://etherscan.io/token/0x4a220e6096b25eadb88358cb44068a3248254675'}, {'id': 'theta', 'rank': '69', 'symbol': 'THETA', 'name': 'Theta Network', 'supply': '1000000000.0000000000000000', 'maxSupply': '1000000000.0000000000000000', 'marketCapUsd': '945078632.8558430000000000', 'volumeUsd24Hr': '23474614.8392800398231033', 'priceUsd': '0.9450786328558430', 'changePercent24Hr': '4.2647563067483262', 'vwap24Hr': '0.9451528341345720', 'explorer': 'https://explorer.thetatoken.org/'}, {'id': 'the-graph', 'rank': '70', 'symbol': 'GRT', 'name': 'The Graph', 'supply': '9548531509.1654740000000000', 'maxSupply': None, 'marketCapUsd': '929355384.4889555538871084', 'volumeUsd24Hr': '16135322.8158054186414054', 'priceUsd': '0.0973296662001778', 'changePercent24Hr': '3.0433938216074845', 'vwap24Hr': '0.0981456568564136', 'explorer': 'https://etherscan.io/token/0xc944e90c64b2c07662a292be6244bdf05cda44a7'}, {'id': 'flare', 'rank': '71', 'symbol': 'FLR', 'name': 'Flare', 'supply': '60983663777.0100000000000000', 'maxSupply': None, 'marketCapUsd': '915499229.0858363515921157', 'volumeUsd24Hr': '3189524.0497414132193524', 'priceUsd': '0.0150122044558262', 'changePercent24Hr': '1.6942123329649504', 'vwap24Hr': '0.0151726332909835', 'explorer': 'https://flare-explorer.flare.network/'}, {'id': 'eos', 'rank': '72', 'symbol': 'EOS', 'name': 'EOS', 'supply': '1553582507.9011000000000000', 'maxSupply': '2100000000.0000000000000000', 'marketCapUsd': '907132784.9315466899255529', 'volumeUsd24Hr': '106724082.8595311446494904', 'priceUsd': '0.5838973986370952', 'changePercent24Hr': '1.6499568070959575', 'vwap24Hr': '0.5763077926984943', 'explorer': 'https://bloks.io/'}, {'id': 'bonk1', 'rank': '73', 'symbol': 'BONK', 'name': 'Bonk', 'supply': '77795920373892.7800000000000000', 'maxSupply': None, 'marketCapUsd': '906269622.4519653105666670', 'volumeUsd24Hr': '106296896.1756792697542952', 'priceUsd': '0.0000116493206597', 'changePercent24Hr': '8.3033884406545720', 'vwap24Hr': '0.0000114376193198', 'explorer': None}, {'id': 'lido-dao', 'rank': '74', 'symbol': 'LDO', 'name': 'Lido DAO', 'supply': '897877243.8587132000000000', 'maxSupply': None, 'marketCapUsd': '905045234.9252765287279841', 'volumeUsd24Hr': '51778949.2436090983014794', 'priceUsd': '1.0079832639880238', 'changePercent24Hr': '5.8178272184931293', 'vwap24Hr': '1.0256729944550184', 'explorer': 'https://etherscan.io/token/0x5a98fcbea516cf06857215779fd812ca3bef1b32'}, {'id': 'paypal-usd', 'rank': '75', 'symbol': 'PYUSD', 'name': 'PayPal USD', 'supply': '791273913.3705820000000000', 'maxSupply': None, 'marketCapUsd': '790845574.4699487675197071', 'volumeUsd24Hr': '12679023.7723772443234516', 'priceUsd': '0.9994586717780084', 'changePercent24Hr': '0.0147669794182854', 'vwap24Hr': '0.9991248989710140', 'explorer': 'https://etherscan.io/token/0x6c3ea9036406852006290770bedfcaba0e23a0e8'}, {'id': 'gala', 'rank': '76', 'symbol': 'GALA', 'name': 'Gala', 'supply': '43599694188.6795700000000000', 'maxSupply': '50000000000.0000000000000000', 'marketCapUsd': '764883343.7114066829938130', 'volumeUsd24Hr': '34529553.5012467372982197', 'priceUsd': '0.0175433190058935', 'changePercent24Hr': '2.5298147403107922', 'vwap24Hr': '0.0175032200324268', 'explorer': 'https://ethplorer.io/es/address/0x15d4c048f83bd7e37d49ea4c83a07267ec4203da#chart=candlestick'}, {'id': 'tether-gold', 'rank': '77', 'symbol': 'XAUT', 'name': 'Tether Gold', 'supply': '246524.0000000000000000', 'maxSupply': None, 'marketCapUsd': '751115197.2397463532799336', 'volumeUsd24Hr': '18270040.2683739970262378', 'priceUsd': '3046.8238274559327014', 'changePercent24Hr': '0.2752294240930221', 'vwap24Hr': '3044.6598554165287247', 'explorer': 'https://etherscan.io/token/0x4922a015c4407f87432b179bb209e125432e4a2a'}, {'id': 'tezos', 'rank': '78', 'symbol': 'XTZ', 'name': 'Tezos', 'supply': '1035418674.2712490000000000', 'maxSupply': None, 'marketCapUsd': '749057541.9682338153543623', 'volumeUsd24Hr': '6904906.2500669135104288', 'priceUsd': '0.7234344527303773', 'changePercent24Hr': '1.7593383875586188', 'vwap24Hr': '0.7223231517552401', 'explorer': 'https://tzkt.io/'}, {'id': 'pancakeswap', 'rank': '79', 'symbol': 'CAKE', 'name': 'PancakeSwap', 'supply': '292597679.6149452000000000', 'maxSupply': '450000000.0000000000000000', 'marketCapUsd': '733396836.8669724126358044', 'volumeUsd24Hr': '192724046.5544999196145695', 'priceUsd': '2.5065025731991903', 'changePercent24Hr': '8.8452220836252930', 'vwap24Hr': '2.3965529641243874', 'explorer': 'https://bscscan.com/token/0x0e09fabb73bd3ade0a17ecc321fd13a19e81ce82'}, {'id': 'the-sandbox', 'rank': '80', 'symbol': 'SAND', 'name': 'The Sandbox', 'supply': '2469357126.2233224000000000', 'maxSupply': None, 'marketCapUsd': '720588095.1948287841746659', 'volumeUsd24Hr': '26504292.8885004545344189', 'priceUsd': '0.2918120216563850', 'changePercent24Hr': '1.9138569939252199', 'vwap24Hr': '0.2930100050059331', 'explorer': 'https://etherscan.io/token/0x3845badAde8e6dFF049820680d1F14bD3903a5d0'}, {'id': 'nexo', 'rank': '81', 'symbol': 'NEXO', 'name': 'Nexo', 'supply': '646145839.5746847000000000', 'maxSupply': None, 'marketCapUsd': '720514470.2320876320653137', 'volumeUsd24Hr': '5657707.3976125984980783', 'priceUsd': '1.1150957355174722', 'changePercent24Hr': '2.6507602854942881', 'vwap24Hr': '1.1132546690333903', 'explorer': 'https://etherscan.io/token/0xb62132e35a6c13ee1ee0f84dc5d40bad8d815206'}, {'id': 'jasmy', 'rank': '82', 'symbol': 'JASMY', 'name': 'JasmyCoin', 'supply': '49444999677.1695800000000000', 'maxSupply': '50000000000.0000000000000000', 'marketCapUsd': '704567925.9055059793719423', 'volumeUsd24Hr': '45989727.4310256594241332', 'priceUsd': '0.0142495283750771', 'changePercent24Hr': '2.6988256124176322', 'vwap24Hr': '0.0142427937668406', 'explorer': None}, {'id': 'bittorrent', 'rank': '83', 'symbol': 'BTTOLD', 'name': 'BitTorrent [New]', 'supply': '986061142857000.0000000000000000', 'maxSupply': None, 'marketCapUsd': '690960746.6807390388435000', 'volumeUsd24Hr': '7495402.3238000272734601', 'priceUsd': '0.0000007007280955', 'changePercent24Hr': '0.5539022620374365', 'vwap24Hr': '0.0000007076825912', 'explorer': 'https://tronscan.org/#/token/1002000'}, {'id': 'iota', 'rank': '84', 'symbol': 'IOTA', 'name': 'IOTA', 'supply': '3688810566.0000000000000000', 'maxSupply': None, 'marketCapUsd': '690662631.1257003504534144', 'volumeUsd24Hr': '14140138.4861097867641326', 'priceUsd': '0.1872317970165184', 'changePercent24Hr': '1.9358945925025521', 'vwap24Hr': '0.1890498645469617', 'explorer': 'https://thetangle.org/'}, {'id': 'bitcoin-sv', 'rank': '85', 'symbol': 'BSV', 'name': 'Bitcoin SV', 'supply': '19840112.5000000000000000', 'maxSupply': None, 'marketCapUsd': '689856547.0466606338437263', 'volumeUsd24Hr': '18819227.6114202618704845', 'priceUsd': '34.7707981518078909', 'changePercent24Hr': '1.4967948383554794', 'vwap24Hr': '34.8986463249710794', 'explorer': 'https://bsvexplorer.io/'}, {'id': 'flow', 'rank': '86', 'symbol': 'FLOW', 'name': 'Flow', 'supply': '1571065878.3134005000000000', 'maxSupply': None, 'marketCapUsd': '676151953.5081771300873567', 'volumeUsd24Hr': '8334487.7100521763049108', 'priceUsd': '0.4303778491033439', 'changePercent24Hr': '1.1388303605356709', 'vwap24Hr': '0.4342078496567588', 'explorer': 'https://flowscan.org/'}, {'id': 'jito', 'rank': '87', 'symbol': 'JTO', 'name': 'Jito', 'supply': '306702602.6000000000000000', 'maxSupply': None, 'marketCapUsd': '666893881.7372663990208380', 'volumeUsd24Hr': '20408012.9598433148200865', 'priceUsd': '2.1743991608934146', 'changePercent24Hr': '1.7065239218302257', 'vwap24Hr': '2.1754986237357206', 'explorer': 'https://solscan.io/token/jtojtomepa8beP8AuQc6eXt5FriJwfFMwQx2v2f9mCL'}, {'id': 'berachain', 'rank': '88', 'symbol': 'BERA', 'name': 'Berachain', 'supply': '107480000.0000000000000000', 'maxSupply': None, 'marketCapUsd': '663195771.9226891928120000', 'volumeUsd24Hr': '55942698.9725058363910554', 'priceUsd': '6.1704109780674469', 'changePercent24Hr': '2.4739701193877657', 'vwap24Hr': '6.1090113147211582', 'explorer': None}, {'id': 'kaia', 'rank': '89', 'symbol': 'KAIA', 'name': 'Kaia', 'supply': '5966455361.8200000000000000', 'maxSupply': None, 'marketCapUsd': '656954949.7488905784640727', 'volumeUsd24Hr': '8730516.5344873784942387', 'priceUsd': '0.1101080809139740', 'changePercent24Hr': '1.9420976930704546', 'vwap24Hr': '0.1104405275318594', 'explorer': 'https://www.kaiascan.io/'}, {'id': 'pax-gold', 'rank': '90', 'symbol': 'PAXG', 'name': 'PAX Gold', 'supply': '210371.2200000000000000', 'maxSupply': None, 'marketCapUsd': '643492379.3434036389143339', 'volumeUsd24Hr': '11516333.5838397863156453', 'priceUsd': '3058.8422662729418925', 'changePercent24Hr': '-0.2519552242937536', 'vwap24Hr': '3063.4579819837460825', 'explorer': 'https://etherscan.io/token/0x45804880de22913dafe09f4980848ece6ecbaf78'}, {'id': 'ethereum-name-service', 'rank': '91', 'symbol': 'ENS', 'name': 'Ethereum Name Service', 'supply': '35599404.0400000000000000', 'maxSupply': '100000000.0000000000000000', 'marketCapUsd': '624139606.9826327391607614', 'volumeUsd24Hr': '104703350.7201208795785052', 'priceUsd': '17.5323049307606538', 'changePercent24Hr': '7.1805472779297400', 'vwap24Hr': '17.6504221507847722', 'explorer': 'https://etherscan.io/token/0xC18360217D8F7Ab5e7c516566761Ea12Ce7F9D72'}, {'id': 'floki-inu', 'rank': '92', 'symbol': 'FLOKI', 'name': 'FLOKI', 'supply': '9626637864609.9200000000000000', 'maxSupply': '0.0000000000000000', 'marketCapUsd': '610932629.3328313415426922', 'volumeUsd24Hr': '54666127.8212050289807682', 'priceUsd': '0.0000634627206222', 'changePercent24Hr': '4.6707280350205986', 'vwap24Hr': '0.0000625766773996', 'explorer': 'https://bscscan.com/token/0xfb5b838b6cfeedc2873ab27866079ac55363d37e'}, {'id': 'telcoin', 'rank': '93', 'symbol': 'TEL', 'name': 'Telcoin', 'supply': '93880083810.9700000000000000', 'maxSupply': '100000000000.0000000000000000', 'marketCapUsd': '609400090.1518372481266972', 'volumeUsd24Hr': '3069731.8390415996113867', 'priceUsd': '0.0064912606104920', 'changePercent24Hr': '20.4302990217629648', 'vwap24Hr': '0.0059476227665936', 'explorer': 'https://etherscan.io/token/0x85e076361cc813a908ff672f9bad1541474402b2'}, {'id': 'neo', 'rank': '94', 'symbol': 'NEO', 'name': 'Neo', 'supply': '70538831.0000000000000000', 'maxSupply': None, 'marketCapUsd': '595839040.8222742401445578', 'volumeUsd24Hr': '15446786.3378761862395668', 'priceUsd': '8.4469650598870038', 'changePercent24Hr': '1.0575366709683863', 'vwap24Hr': '8.4652939022869939', 'explorer': 'https://neotracker.io'}, {'id': 'curve-dao-token', 'rank': '95', 'symbol': 'CRV', 'name': 'Curve DAO Token', 'supply': '1301146243.0000000000000000', 'maxSupply': '3030303030.2990000000000000', 'marketCapUsd': '584077171.1066169077419086', 'volumeUsd24Hr': '19825678.0163972146338729', 'priceUsd': '0.4488943300946202', 'changePercent24Hr': '-3.2304615987758170', 'vwap24Hr': '0.4681024140371408', 'explorer': 'https://etherscan.io/token/0xD533a949740bb3306d119CC777fa900bA034cd52'}, {'id': 'helium', 'rank': '96', 'symbol': 'HNT', 'name': 'Helium', 'supply': '179761124.7451054500000000', 'maxSupply': '223000000.0000000000000000', 'marketCapUsd': '581166153.8858703243344862', 'volumeUsd24Hr': '718570.9365315982308858', 'priceUsd': '3.2329913083818439', 'changePercent24Hr': '5.1643146166982266', 'vwap24Hr': '3.1703982466984713', 'explorer': 'https://explorer.helium.com/'}, {'id': 'kava', 'rank': '97', 'symbol': 'KAVA', 'name': 'Kava', 'supply': '1082853482.0000000000000000', 'maxSupply': None, 'marketCapUsd': '562313683.7619744372970642', 'volumeUsd24Hr': '10502980.9595560144647451', 'priceUsd': '0.5192887986317381', 'changePercent24Hr': '3.7249558329418975', 'vwap24Hr': '0.5071227043241836', 'explorer': 'https://www.mintscan.io/kava'}, {'id': 'pyth-network', 'rank': '98', 'symbol': 'PYTH', 'name': 'Pyth Network', 'supply': '3624987919.8500000000000000', 'maxSupply': None, 'marketCapUsd': '553542516.1418086171331196', 'volumeUsd24Hr': '14593868.1160955582095728', 'priceUsd': '0.1527018926354695', 'changePercent24Hr': '1.4445579345802607', 'vwap24Hr': '0.1535576768069090', 'explorer': 'https://solscan.io/token/HZ1JovNiVvGrGNiiYvEozEVgZ58xaU3RKwX8eACQBCt3'}, {'id': 'raydium', 'rank': '99', 'symbol': 'RAY', 'name': 'Raydium', 'supply': '290847970.9593340000000000', 'maxSupply': '555000000.0000000000000000', 'marketCapUsd': '551629276.3223750504768618', 'volumeUsd24Hr': '73535709.1766009354439129', 'priceUsd': '1.8966241177577380', 'changePercent24Hr': '2.9233016356755130', 'vwap24Hr': '1.8745983524101705', 'explorer': 'https://explorer.solana.com/address/4k3Dyjzvzp8eMZWUXbBCjEvwSkkk59S5iCNLY3QrkX6R'}, {'id': 'axie-infinity', 'rank': '100', 'symbol': 'AXS', 'name': 'Axie Infinity', 'supply': '159646968.7628623500000000', 'maxSupply': None, 'marketCapUsd': '548791523.0262668450396381', 'volumeUsd24Hr': '8426517.8619070275293318', 'priceUsd': '3.4375317444419195', 'changePercent24Hr': '1.2521070532352095', 'vwap24Hr': '3.4549118489821158', 'explorer': 'https://etherscan.io/token/0xf5d669627376ebd411e34b98f19c868c8aba5ada'}], 'timestamp': 1742464852371}\n"
     ]
    }
   ],
   "source": [
    "result2=page2.json()\n",
    "print(result2)"
   ]
  },
  {
   "cell_type": "code",
   "execution_count": 71,
   "id": "07454cc3-5e65-49dd-b7d4-8b2913dcca95",
   "metadata": {},
   "outputs": [],
   "source": [
    "l=result2['data']\n",
    "import pandas as pd\n",
    "mydata=pd.DataFrame(l)"
   ]
  },
  {
   "cell_type": "code",
   "execution_count": 72,
   "id": "f43c5f00-0ffe-49a4-9450-2c5fcdcd143c",
   "metadata": {},
   "outputs": [
    {
     "data": {
      "text/html": [
       "<div>\n",
       "<style scoped>\n",
       "    .dataframe tbody tr th:only-of-type {\n",
       "        vertical-align: middle;\n",
       "    }\n",
       "\n",
       "    .dataframe tbody tr th {\n",
       "        vertical-align: top;\n",
       "    }\n",
       "\n",
       "    .dataframe thead th {\n",
       "        text-align: right;\n",
       "    }\n",
       "</style>\n",
       "<table border=\"1\" class=\"dataframe\">\n",
       "  <thead>\n",
       "    <tr style=\"text-align: right;\">\n",
       "      <th></th>\n",
       "      <th>id</th>\n",
       "      <th>rank</th>\n",
       "      <th>symbol</th>\n",
       "      <th>name</th>\n",
       "      <th>supply</th>\n",
       "      <th>maxSupply</th>\n",
       "      <th>marketCapUsd</th>\n",
       "      <th>volumeUsd24Hr</th>\n",
       "      <th>priceUsd</th>\n",
       "      <th>changePercent24Hr</th>\n",
       "      <th>vwap24Hr</th>\n",
       "      <th>explorer</th>\n",
       "    </tr>\n",
       "  </thead>\n",
       "  <tbody>\n",
       "    <tr>\n",
       "      <th>0</th>\n",
       "      <td>bitcoin</td>\n",
       "      <td>1</td>\n",
       "      <td>BTC</td>\n",
       "      <td>Bitcoin</td>\n",
       "      <td>19839400.0000000000000000</td>\n",
       "      <td>21000000.0000000000000000</td>\n",
       "      <td>1704168200554.4520080019363800</td>\n",
       "      <td>10145317898.1131987490526916</td>\n",
       "      <td>85898.1723517068060527</td>\n",
       "      <td>2.8303323148418100</td>\n",
       "      <td>85201.0651284456121972</td>\n",
       "      <td>https://blockchain.info/</td>\n",
       "    </tr>\n",
       "    <tr>\n",
       "      <th>1</th>\n",
       "      <td>ethereum</td>\n",
       "      <td>2</td>\n",
       "      <td>ETH</td>\n",
       "      <td>Ethereum</td>\n",
       "      <td>120629195.4269564900000000</td>\n",
       "      <td>None</td>\n",
       "      <td>242031355391.3720702848136771</td>\n",
       "      <td>6627561502.6680493086155465</td>\n",
       "      <td>2006.4077732983565868</td>\n",
       "      <td>3.1986945441209031</td>\n",
       "      <td>2023.0357853491439004</td>\n",
       "      <td>https://etherscan.io/</td>\n",
       "    </tr>\n",
       "    <tr>\n",
       "      <th>2</th>\n",
       "      <td>xrp</td>\n",
       "      <td>3</td>\n",
       "      <td>XRP</td>\n",
       "      <td>XRP</td>\n",
       "      <td>58108919817.0000000000000000</td>\n",
       "      <td>100000000000.0000000000000000</td>\n",
       "      <td>145960734522.5295277496239365</td>\n",
       "      <td>3370529495.9001892693635473</td>\n",
       "      <td>2.5118473202082845</td>\n",
       "      <td>8.4563590913032227</td>\n",
       "      <td>2.4898083714762087</td>\n",
       "      <td>https://xrpcharts.ripple.com/#/graph/</td>\n",
       "    </tr>\n",
       "    <tr>\n",
       "      <th>3</th>\n",
       "      <td>tether</td>\n",
       "      <td>4</td>\n",
       "      <td>USDT</td>\n",
       "      <td>Tether</td>\n",
       "      <td>143653509034.0653000000000000</td>\n",
       "      <td>None</td>\n",
       "      <td>143728517967.1744749903120368</td>\n",
       "      <td>24672991788.0754977566478805</td>\n",
       "      <td>1.0005221517637372</td>\n",
       "      <td>0.1295580928142678</td>\n",
       "      <td>0.9999677996084417</td>\n",
       "      <td>https://www.omniexplorer.info/asset/31</td>\n",
       "    </tr>\n",
       "    <tr>\n",
       "      <th>4</th>\n",
       "      <td>binance-coin</td>\n",
       "      <td>5</td>\n",
       "      <td>BNB</td>\n",
       "      <td>BNB</td>\n",
       "      <td>144006830.0000000000000000</td>\n",
       "      <td>144006830.0000000000000000</td>\n",
       "      <td>91531922671.6425422206243280</td>\n",
       "      <td>557712384.9752122502527518</td>\n",
       "      <td>635.6082046361449816</td>\n",
       "      <td>3.3648881258129906</td>\n",
       "      <td>617.6091689478402690</td>\n",
       "      <td>https://etherscan.io/token/0xB8c77482e45F1F44d...</td>\n",
       "    </tr>\n",
       "  </tbody>\n",
       "</table>\n",
       "</div>"
      ],
      "text/plain": [
       "             id rank symbol      name                         supply  \\\n",
       "0       bitcoin    1    BTC   Bitcoin      19839400.0000000000000000   \n",
       "1      ethereum    2    ETH  Ethereum     120629195.4269564900000000   \n",
       "2           xrp    3    XRP       XRP   58108919817.0000000000000000   \n",
       "3        tether    4   USDT    Tether  143653509034.0653000000000000   \n",
       "4  binance-coin    5    BNB       BNB     144006830.0000000000000000   \n",
       "\n",
       "                       maxSupply                    marketCapUsd  \\\n",
       "0      21000000.0000000000000000  1704168200554.4520080019363800   \n",
       "1                           None   242031355391.3720702848136771   \n",
       "2  100000000000.0000000000000000   145960734522.5295277496239365   \n",
       "3                           None   143728517967.1744749903120368   \n",
       "4     144006830.0000000000000000    91531922671.6425422206243280   \n",
       "\n",
       "                  volumeUsd24Hr                priceUsd   changePercent24Hr  \\\n",
       "0  10145317898.1131987490526916  85898.1723517068060527  2.8303323148418100   \n",
       "1   6627561502.6680493086155465   2006.4077732983565868  3.1986945441209031   \n",
       "2   3370529495.9001892693635473      2.5118473202082845  8.4563590913032227   \n",
       "3  24672991788.0754977566478805      1.0005221517637372  0.1295580928142678   \n",
       "4    557712384.9752122502527518    635.6082046361449816  3.3648881258129906   \n",
       "\n",
       "                 vwap24Hr                                           explorer  \n",
       "0  85201.0651284456121972                           https://blockchain.info/  \n",
       "1   2023.0357853491439004                              https://etherscan.io/  \n",
       "2      2.4898083714762087              https://xrpcharts.ripple.com/#/graph/  \n",
       "3      0.9999677996084417             https://www.omniexplorer.info/asset/31  \n",
       "4    617.6091689478402690  https://etherscan.io/token/0xB8c77482e45F1F44d...  "
      ]
     },
     "execution_count": 72,
     "metadata": {},
     "output_type": "execute_result"
    }
   ],
   "source": [
    "mydata.head()"
   ]
  },
  {
   "cell_type": "code",
   "execution_count": 73,
   "id": "eb7b0bae-5ef5-429f-8a93-cacde873f07c",
   "metadata": {},
   "outputs": [],
   "source": [
    "mydata.to_csv(r\"C:\\My python Files\\Data.csv\")"
   ]
  },
  {
   "cell_type": "code",
   "execution_count": 76,
   "id": "68b7f9e2-6c03-4fe4-b32f-2369c39265d4",
   "metadata": {},
   "outputs": [
    {
     "data": {
      "text/html": [
       "<div>\n",
       "<style scoped>\n",
       "    .dataframe tbody tr th:only-of-type {\n",
       "        vertical-align: middle;\n",
       "    }\n",
       "\n",
       "    .dataframe tbody tr th {\n",
       "        vertical-align: top;\n",
       "    }\n",
       "\n",
       "    .dataframe thead th {\n",
       "        text-align: right;\n",
       "    }\n",
       "</style>\n",
       "<table border=\"1\" class=\"dataframe\">\n",
       "  <thead>\n",
       "    <tr style=\"text-align: right;\">\n",
       "      <th></th>\n",
       "      <th>id</th>\n",
       "      <th>rank</th>\n",
       "      <th>symbol</th>\n",
       "      <th>name</th>\n",
       "      <th>supply</th>\n",
       "      <th>maxSupply</th>\n",
       "      <th>marketCapUsd</th>\n",
       "      <th>volumeUsd24Hr</th>\n",
       "      <th>priceUsd</th>\n",
       "      <th>changePercent24Hr</th>\n",
       "      <th>vwap24Hr</th>\n",
       "      <th>explorer</th>\n",
       "    </tr>\n",
       "  </thead>\n",
       "  <tbody>\n",
       "    <tr>\n",
       "      <th>count</th>\n",
       "      <td>100</td>\n",
       "      <td>100</td>\n",
       "      <td>100</td>\n",
       "      <td>100</td>\n",
       "      <td>100</td>\n",
       "      <td>44</td>\n",
       "      <td>100</td>\n",
       "      <td>100</td>\n",
       "      <td>100</td>\n",
       "      <td>100</td>\n",
       "      <td>98</td>\n",
       "      <td>89</td>\n",
       "    </tr>\n",
       "    <tr>\n",
       "      <th>unique</th>\n",
       "      <td>100</td>\n",
       "      <td>100</td>\n",
       "      <td>100</td>\n",
       "      <td>100</td>\n",
       "      <td>100</td>\n",
       "      <td>35</td>\n",
       "      <td>100</td>\n",
       "      <td>100</td>\n",
       "      <td>100</td>\n",
       "      <td>100</td>\n",
       "      <td>98</td>\n",
       "      <td>89</td>\n",
       "    </tr>\n",
       "    <tr>\n",
       "      <th>top</th>\n",
       "      <td>bitcoin</td>\n",
       "      <td>1</td>\n",
       "      <td>BTC</td>\n",
       "      <td>Bitcoin</td>\n",
       "      <td>19839400.0000000000000000</td>\n",
       "      <td>21000000.0000000000000000</td>\n",
       "      <td>1704168200554.4520080019363800</td>\n",
       "      <td>10145317898.1131987490526916</td>\n",
       "      <td>85898.1723517068060527</td>\n",
       "      <td>2.8303323148418100</td>\n",
       "      <td>85201.0651284456121972</td>\n",
       "      <td>https://blockchain.info/</td>\n",
       "    </tr>\n",
       "    <tr>\n",
       "      <th>freq</th>\n",
       "      <td>1</td>\n",
       "      <td>1</td>\n",
       "      <td>1</td>\n",
       "      <td>1</td>\n",
       "      <td>1</td>\n",
       "      <td>3</td>\n",
       "      <td>1</td>\n",
       "      <td>1</td>\n",
       "      <td>1</td>\n",
       "      <td>1</td>\n",
       "      <td>1</td>\n",
       "      <td>1</td>\n",
       "    </tr>\n",
       "  </tbody>\n",
       "</table>\n",
       "</div>"
      ],
      "text/plain": [
       "             id rank symbol     name                     supply  \\\n",
       "count       100  100    100      100                        100   \n",
       "unique      100  100    100      100                        100   \n",
       "top     bitcoin    1    BTC  Bitcoin  19839400.0000000000000000   \n",
       "freq          1    1      1        1                          1   \n",
       "\n",
       "                        maxSupply                    marketCapUsd  \\\n",
       "count                          44                             100   \n",
       "unique                         35                             100   \n",
       "top     21000000.0000000000000000  1704168200554.4520080019363800   \n",
       "freq                            3                               1   \n",
       "\n",
       "                       volumeUsd24Hr                priceUsd  \\\n",
       "count                            100                     100   \n",
       "unique                           100                     100   \n",
       "top     10145317898.1131987490526916  85898.1723517068060527   \n",
       "freq                               1                       1   \n",
       "\n",
       "         changePercent24Hr                vwap24Hr                  explorer  \n",
       "count                  100                      98                        89  \n",
       "unique                 100                      98                        89  \n",
       "top     2.8303323148418100  85201.0651284456121972  https://blockchain.info/  \n",
       "freq                     1                       1                         1  "
      ]
     },
     "execution_count": 76,
     "metadata": {},
     "output_type": "execute_result"
    }
   ],
   "source": [
    "mydata.describe(include='all')"
   ]
  },
  {
   "cell_type": "code",
   "execution_count": 77,
   "id": "d8f49ea0-be2b-4abb-ab83-b64903e9cccb",
   "metadata": {},
   "outputs": [
    {
     "name": "stdout",
     "output_type": "stream",
     "text": [
      "<class 'pandas.core.frame.DataFrame'>\n",
      "RangeIndex: 100 entries, 0 to 99\n",
      "Data columns (total 12 columns):\n",
      " #   Column             Non-Null Count  Dtype \n",
      "---  ------             --------------  ----- \n",
      " 0   id                 100 non-null    object\n",
      " 1   rank               100 non-null    object\n",
      " 2   symbol             100 non-null    object\n",
      " 3   name               100 non-null    object\n",
      " 4   supply             100 non-null    object\n",
      " 5   maxSupply          44 non-null     object\n",
      " 6   marketCapUsd       100 non-null    object\n",
      " 7   volumeUsd24Hr      100 non-null    object\n",
      " 8   priceUsd           100 non-null    object\n",
      " 9   changePercent24Hr  100 non-null    object\n",
      " 10  vwap24Hr           98 non-null     object\n",
      " 11  explorer           89 non-null     object\n",
      "dtypes: object(12)\n",
      "memory usage: 9.5+ KB\n"
     ]
    }
   ],
   "source": [
    "mydata.info()"
   ]
  },
  {
   "cell_type": "code",
   "execution_count": 79,
   "id": "05e557e4-d80c-48af-ba6a-28766d4be742",
   "metadata": {},
   "outputs": [],
   "source": [
    "pd1=pd.read_csv(\"C:\\My python Files\\Data.csv\")"
   ]
  },
  {
   "cell_type": "code",
   "execution_count": 106,
   "id": "4fd16f3f-24c7-4f1d-aaad-a2581e856339",
   "metadata": {},
   "outputs": [],
   "source": [
    "import matplotlib.pyplot as plt\n",
    "import seaborn as sns"
   ]
  },
  {
   "cell_type": "code",
   "execution_count": 84,
   "id": "b7a61813-8611-45d8-880d-8d7b48e79890",
   "metadata": {},
   "outputs": [
    {
     "data": {
      "text/plain": [
       "Unnamed: 0            0\n",
       "id                    0\n",
       "rank                  0\n",
       "symbol                0\n",
       "name                  0\n",
       "supply                0\n",
       "maxSupply            56\n",
       "marketCapUsd          0\n",
       "volumeUsd24Hr         0\n",
       "priceUsd              0\n",
       "changePercent24Hr     0\n",
       "vwap24Hr              2\n",
       "explorer             11\n",
       "dtype: int64"
      ]
     },
     "execution_count": 84,
     "metadata": {},
     "output_type": "execute_result"
    }
   ],
   "source": [
    "pd1.isnull().sum()"
   ]
  },
  {
   "cell_type": "code",
   "execution_count": 86,
   "id": "f58bede3-9a58-4347-ade3-0388d3448778",
   "metadata": {},
   "outputs": [
    {
     "data": {
      "text/plain": [
       "Unnamed: 0           0\n",
       "id                   0\n",
       "rank                 0\n",
       "symbol               0\n",
       "name                 0\n",
       "supply               0\n",
       "maxSupply            0\n",
       "marketCapUsd         0\n",
       "volumeUsd24Hr        0\n",
       "priceUsd             0\n",
       "changePercent24Hr    0\n",
       "vwap24Hr             0\n",
       "explorer             0\n",
       "dtype: int64"
      ]
     },
     "execution_count": 86,
     "metadata": {},
     "output_type": "execute_result"
    }
   ],
   "source": [
    "pd1.dropna(inplace=True)\n",
    "pd1.isnull().sum()"
   ]
  },
  {
   "cell_type": "code",
   "execution_count": 87,
   "id": "e87cc91b-d514-4170-8f50-341c460f61c0",
   "metadata": {},
   "outputs": [
    {
     "name": "stderr",
     "output_type": "stream",
     "text": [
      "C:\\Users\\DELL\\anaconda3\\Lib\\site-packages\\seaborn\\_oldcore.py:1119: FutureWarning: use_inf_as_na option is deprecated and will be removed in a future version. Convert inf values to NaN before operating instead.\n",
      "  with pd.option_context('mode.use_inf_as_na', True):\n"
     ]
    },
    {
     "data": {
      "image/png": "[encoded data removed]",
      "text/plain": [
       "<Figure size 500x600 with 1 Axes>"
      ]
     },
     "metadata": {},
     "output_type": "display_data"
    }
   ],
   "source": [
    "plt.figure(figsize=(5,6))\n",
    "sns.histplot(pd1['rank'],kde=True,bins=10)\n",
    "plt.title(\"Rank Distribution\")\n",
    "plt.show()"
   ]
  },
  {
   "cell_type": "code",
   "execution_count": 88,
   "id": "7e733b35-8c46-4f97-a4f8-5fcf7ed4601f",
   "metadata": {},
   "outputs": [
    {
     "data": {
      "image/png": "[encoded data removed]",
      "text/plain": [
       "<Figure size 500x600 with 1 Axes>"
      ]
     },
     "metadata": {},
     "output_type": "display_data"
    }
   ],
   "source": [
    "plt.figure(figsize=(5,6))\n",
    "sns.boxplot(pd1['maxSupply'])\n",
    "plt.title(\"Supply Distribution\")\n",
    "plt.show()"
   ]
  },
  {
   "cell_type": "markdown",
   "id": "6ee5df1e-400f-4fdb-b2c3-e21c15be5d80",
   "metadata": {},
   "source": [
    "Create the Scatter plot between Name and the Price"
   ]
  },
  {
   "cell_type": "code",
   "execution_count": 100,
   "id": "a1a09925-9ecc-46a6-94a4-ef30ab5c7058",
   "metadata": {},
   "outputs": [
    {
     "data": {
      "text/plain": [
       "<matplotlib.collections.PathCollection at 0x241410e4d90>"
      ]
     },
     "execution_count": 100,
     "metadata": {},
     "output_type": "execute_result"
    },
    {
     "data": {
      "image/png": "[encoded data removed]",
      "text/plain": [
       "<Figure size 640x480 with 1 Axes>"
      ]
     },
     "metadata": {},
     "output_type": "display_data"
    }
   ],
   "source": [
    "p=['priceUsd']\n",
    "n=['name']\n",
    "plt.scatter(p,n,color='k',label='b score',marker='D')"
   ]
  },
  {
   "cell_type": "markdown",
   "id": "65a261ed-b2ca-4914-85f4-2140187bea87",
   "metadata": {},
   "source": [
    "Filter the data Where the price is less than 2 and plot a scatter plot"
   ]
  },
  {
   "cell_type": "code",
   "execution_count": 111,
   "id": "46e3167f-5637-44ba-87ea-7b65b2e173fb",
   "metadata": {},
   "outputs": [
    {
     "data": {
      "text/html": [
       "<div>\n",
       "<style scoped>\n",
       "    .dataframe tbody tr th:only-of-type {\n",
       "        vertical-align: middle;\n",
       "    }\n",
       "\n",
       "    .dataframe tbody tr th {\n",
       "        vertical-align: top;\n",
       "    }\n",
       "\n",
       "    .dataframe thead th {\n",
       "        text-align: right;\n",
       "    }\n",
       "</style>\n",
       "<table border=\"1\" class=\"dataframe\">\n",
       "  <thead>\n",
       "    <tr style=\"text-align: right;\">\n",
       "      <th></th>\n",
       "      <th>Unnamed: 0</th>\n",
       "      <th>id</th>\n",
       "      <th>rank</th>\n",
       "      <th>symbol</th>\n",
       "      <th>name</th>\n",
       "      <th>supply</th>\n",
       "      <th>maxSupply</th>\n",
       "      <th>marketCapUsd</th>\n",
       "      <th>volumeUsd24Hr</th>\n",
       "      <th>priceUsd</th>\n",
       "      <th>changePercent24Hr</th>\n",
       "      <th>vwap24Hr</th>\n",
       "      <th>explorer</th>\n",
       "    </tr>\n",
       "  </thead>\n",
       "  <tbody>\n",
       "    <tr>\n",
       "      <th>8</th>\n",
       "      <td>8</td>\n",
       "      <td>cardano</td>\n",
       "      <td>9</td>\n",
       "      <td>ADA</td>\n",
       "      <td>Cardano</td>\n",
       "      <td>3.523480e+10</td>\n",
       "      <td>4.500000e+10</td>\n",
       "      <td>2.583496e+10</td>\n",
       "      <td>5.076330e+08</td>\n",
       "      <td>0.733223</td>\n",
       "      <td>2.445235</td>\n",
       "      <td>0.732204</td>\n",
       "      <td>https://cardanoexplorer.com/</td>\n",
       "    </tr>\n",
       "    <tr>\n",
       "      <th>15</th>\n",
       "      <td>15</td>\n",
       "      <td>stellar</td>\n",
       "      <td>16</td>\n",
       "      <td>XLM</td>\n",
       "      <td>Stellar</td>\n",
       "      <td>3.075455e+10</td>\n",
       "      <td>5.000181e+10</td>\n",
       "      <td>8.850370e+09</td>\n",
       "      <td>1.673737e+08</td>\n",
       "      <td>0.287774</td>\n",
       "      <td>3.702626</td>\n",
       "      <td>0.288359</td>\n",
       "      <td>https://dashboard.stellar.org/</td>\n",
       "    </tr>\n",
       "    <tr>\n",
       "      <th>16</th>\n",
       "      <td>16</td>\n",
       "      <td>hedera-hashgraph</td>\n",
       "      <td>17</td>\n",
       "      <td>HBAR</td>\n",
       "      <td>Hedera</td>\n",
       "      <td>4.190396e+10</td>\n",
       "      <td>5.000000e+10</td>\n",
       "      <td>8.139545e+09</td>\n",
       "      <td>1.091022e+08</td>\n",
       "      <td>0.194243</td>\n",
       "      <td>2.705729</td>\n",
       "      <td>0.193989</td>\n",
       "      <td>https://app.dragonglass.me/hedera/home</td>\n",
       "    </tr>\n",
       "    <tr>\n",
       "      <th>19</th>\n",
       "      <td>19</td>\n",
       "      <td>shiba-inu</td>\n",
       "      <td>20</td>\n",
       "      <td>SHIB</td>\n",
       "      <td>Shiba Inu</td>\n",
       "      <td>5.892529e+14</td>\n",
       "      <td>5.895527e+14</td>\n",
       "      <td>7.609630e+09</td>\n",
       "      <td>5.999405e+07</td>\n",
       "      <td>0.000013</td>\n",
       "      <td>2.605593</td>\n",
       "      <td>0.000013</td>\n",
       "      <td>https://etherscan.io/token/0x95ad61b0a150d7921...</td>\n",
       "    </tr>\n",
       "    <tr>\n",
       "      <th>32</th>\n",
       "      <td>32</td>\n",
       "      <td>pepe</td>\n",
       "      <td>33</td>\n",
       "      <td>PEPE</td>\n",
       "      <td>Pepe</td>\n",
       "      <td>4.206899e+14</td>\n",
       "      <td>4.206900e+14</td>\n",
       "      <td>3.191360e+09</td>\n",
       "      <td>4.627958e+08</td>\n",
       "      <td>0.000008</td>\n",
       "      <td>4.046468</td>\n",
       "      <td>0.000007</td>\n",
       "      <td>https://etherscan.io/token/0x6982508145454ce32...</td>\n",
       "    </tr>\n",
       "  </tbody>\n",
       "</table>\n",
       "</div>"
      ],
      "text/plain": [
       "    Unnamed: 0                id  rank symbol       name        supply  \\\n",
       "8            8           cardano     9    ADA    Cardano  3.523480e+10   \n",
       "15          15           stellar    16    XLM    Stellar  3.075455e+10   \n",
       "16          16  hedera-hashgraph    17   HBAR     Hedera  4.190396e+10   \n",
       "19          19         shiba-inu    20   SHIB  Shiba Inu  5.892529e+14   \n",
       "32          32              pepe    33   PEPE       Pepe  4.206899e+14   \n",
       "\n",
       "       maxSupply  marketCapUsd  volumeUsd24Hr  priceUsd  changePercent24Hr  \\\n",
       "8   4.500000e+10  2.583496e+10   5.076330e+08  0.733223           2.445235   \n",
       "15  5.000181e+10  8.850370e+09   1.673737e+08  0.287774           3.702626   \n",
       "16  5.000000e+10  8.139545e+09   1.091022e+08  0.194243           2.705729   \n",
       "19  5.895527e+14  7.609630e+09   5.999405e+07  0.000013           2.605593   \n",
       "32  4.206900e+14  3.191360e+09   4.627958e+08  0.000008           4.046468   \n",
       "\n",
       "    vwap24Hr                                           explorer  \n",
       "8   0.732204                       https://cardanoexplorer.com/  \n",
       "15  0.288359                     https://dashboard.stellar.org/  \n",
       "16  0.193989             https://app.dragonglass.me/hedera/home  \n",
       "19  0.000013  https://etherscan.io/token/0x95ad61b0a150d7921...  \n",
       "32  0.000007  https://etherscan.io/token/0x6982508145454ce32...  "
      ]
     },
     "execution_count": 111,
     "metadata": {},
     "output_type": "execute_result"
    }
   ],
   "source": [
    "filt=(pd1[pd1['priceUsd']<2])\n",
    "filt.head()"
   ]
  },
  {
   "cell_type": "code",
   "execution_count": 115,
   "id": "16094c0e-9a2f-433b-b3a2-24027f92b85a",
   "metadata": {},
   "outputs": [
    {
     "data": {
      "text/plain": [
       "<matplotlib.legend.Legend at 0x241448d0490>"
      ]
     },
     "execution_count": 115,
     "metadata": {},
     "output_type": "execute_result"
    },
    {
     "data": {
      "image/png": "[encoded data removed]",
      "text/plain": [
       "<Figure size 2000x500 with 1 Axes>"
      ]
     },
     "metadata": {},
     "output_type": "display_data"
    }
   ],
   "source": [
    "import matplotlib.pyplot as plt\n",
    "Name=(filt['name'])\n",
    "price=(filt['priceUsd'])\n",
    "plt.figure(figsize=(20,5))\n",
    "plt.scatter(Name,price,color='k',label='name vs price',marker='D')\n",
    "plt.xlabel(\"Name\")\n",
    "plt.ylabel(\"Price\")\n",
    "plt.grid()\n",
    "plt.legend()"
   ]
  },
  {
   "cell_type": "code",
   "execution_count": null,
   "id": "6a61d14a-eed8-4bbe-8c52-69b2398362ea",
   "metadata": {},
   "outputs": [],
   "source": []
  }
 ],
 "metadata": {
  "kernelspec": {
   "display_name": "Python 3 (ipykernel)",
   "language": "python",
   "name": "python3"
  },
  "language_info": {
   "codemirror_mode": {
    "name": "ipython",
    "version": 3
   },
   "file_extension": ".py",
   "mimetype": "text/x-python",
   "name": "python",
   "nbconvert_exporter": "python",
   "pygments_lexer": "ipython3",
   "version": "3.11.7"
  }
 },
 "nbformat": 4,
 "nbformat_minor": 5
}
